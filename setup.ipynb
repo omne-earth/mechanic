{
 "cells": [
  {
   "cell_type": "markdown",
   "id": "1ea28d9d",
   "metadata": {},
   "source": [
    "# init"
   ]
  },
  {
   "cell_type": "code",
   "execution_count": null,
   "id": "3e9adba3",
   "metadata": {
    "vscode": {
     "languageId": "shellscript"
    }
   },
   "outputs": [],
   "source": [
    "make init"
   ]
  },
  {
   "cell_type": "markdown",
   "id": "2b52a560",
   "metadata": {},
   "source": [
    "# toolbox"
   ]
  },
  {
   "cell_type": "code",
   "execution_count": null,
   "id": "6d585b6a",
   "metadata": {
    "vscode": {
     "languageId": "shellscript"
    }
   },
   "outputs": [],
   "source": [
    "# $name E { llama }\n",
    "make toolbox $name"
   ]
  },
  {
   "cell_type": "markdown",
   "id": "335f4b03",
   "metadata": {},
   "source": [
    "# model"
   ]
  },
  {
   "cell_type": "markdown",
   "id": "a0fe8734",
   "metadata": {},
   "source": [
    "## get"
   ]
  },
  {
   "cell_type": "code",
   "execution_count": null,
   "id": "04892e61",
   "metadata": {
    "vscode": {
     "languageId": "shellscript"
    }
   },
   "outputs": [],
   "source": [
    "make get"
   ]
  },
  {
   "cell_type": "markdown",
   "id": "6e652403",
   "metadata": {},
   "source": [
    "## convert"
   ]
  },
  {
   "cell_type": "code",
   "execution_count": null,
   "id": "fc7776e6",
   "metadata": {
    "vscode": {
     "languageId": "shellscript"
    }
   },
   "outputs": [],
   "source": [
    "make convert"
   ]
  },
  {
   "cell_type": "markdown",
   "id": "ac1ba775",
   "metadata": {},
   "source": [
    "## quantize"
   ]
  },
  {
   "cell_type": "code",
   "execution_count": null,
   "id": "77c2fbaa",
   "metadata": {
    "vscode": {
     "languageId": "shellscript"
    }
   },
   "outputs": [],
   "source": [
    "make quantize"
   ]
  }
 ],
 "metadata": {
  "kernelspec": {
   "display_name": "Bash",
   "language": "bash",
   "name": "bash"
  },
  "language_info": {
   "codemirror_mode": "shell",
   "file_extension": ".sh",
   "mimetype": "text/x-sh",
   "name": "bash"
  }
 },
 "nbformat": 4,
 "nbformat_minor": 5
}
